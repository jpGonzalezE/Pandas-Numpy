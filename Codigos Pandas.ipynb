{
 "cells": [
  {
   "cell_type": "code",
   "execution_count": 1,
   "id": "972fe1ee",
   "metadata": {},
   "outputs": [],
   "source": [
    "import os\n",
    "import pandas as pd"
   ]
  },
  {
   "cell_type": "code",
   "execution_count": 20,
   "id": "cc5a9af6",
   "metadata": {},
   "outputs": [
    {
     "data": {
      "text/plain": [
       "'C:/Users/Sindicato1/Aprendizaje Profundo con Datos Estructurados/data/Streetcar Jan 2014.csv'"
      ]
     },
     "execution_count": 20,
     "metadata": {},
     "output_type": "execute_result"
    }
   ],
   "source": [
    "#ruta = os.path.join(os.getcwd(), 'Streetcar Jan 2014.csv')\n",
    "path =\"C:/Users/Sindicato1/Aprendizaje Profundo con Datos Estructurados/data/\"\n",
    "file = \"Streetcar Jan 2014.csv\"\n",
    "pathFull = os.path.join(path,file)\n",
    "pathFull"
   ]
  },
  {
   "cell_type": "markdown",
   "id": "9853f3be",
   "metadata": {},
   "source": [
    "### LAS PRIMERAS 3 FILAS"
   ]
  },
  {
   "cell_type": "code",
   "execution_count": 21,
   "id": "6274422f",
   "metadata": {},
   "outputs": [
    {
     "data": {
      "text/html": [
       "<div>\n",
       "<style scoped>\n",
       "    .dataframe tbody tr th:only-of-type {\n",
       "        vertical-align: middle;\n",
       "    }\n",
       "\n",
       "    .dataframe tbody tr th {\n",
       "        vertical-align: top;\n",
       "    }\n",
       "\n",
       "    .dataframe thead th {\n",
       "        text-align: right;\n",
       "    }\n",
       "</style>\n",
       "<table border=\"1\" class=\"dataframe\">\n",
       "  <thead>\n",
       "    <tr style=\"text-align: right;\">\n",
       "      <th></th>\n",
       "      <th>Report Date</th>\n",
       "      <th>Route</th>\n",
       "      <th>Time</th>\n",
       "      <th>Day</th>\n",
       "      <th>Location</th>\n",
       "      <th>Incident</th>\n",
       "      <th>Min Delay</th>\n",
       "      <th>Min Gap</th>\n",
       "      <th>Direction</th>\n",
       "      <th>Vehicle</th>\n",
       "    </tr>\n",
       "  </thead>\n",
       "  <tbody>\n",
       "    <tr>\n",
       "      <th>0</th>\n",
       "      <td>2014-01-02</td>\n",
       "      <td>505</td>\n",
       "      <td>6:31:00 AM</td>\n",
       "      <td>Thursday</td>\n",
       "      <td>Dundas and Roncesvalles</td>\n",
       "      <td>Late Leaving Garage</td>\n",
       "      <td>4</td>\n",
       "      <td>8.0</td>\n",
       "      <td>E/B</td>\n",
       "      <td>4018.0</td>\n",
       "    </tr>\n",
       "    <tr>\n",
       "      <th>1</th>\n",
       "      <td>2014-01-02</td>\n",
       "      <td>504</td>\n",
       "      <td>12:43:00 PM</td>\n",
       "      <td>Thursday</td>\n",
       "      <td>King and Shaw</td>\n",
       "      <td>Utilized Off Route</td>\n",
       "      <td>20</td>\n",
       "      <td>22.0</td>\n",
       "      <td>E/B</td>\n",
       "      <td>4128.0</td>\n",
       "    </tr>\n",
       "    <tr>\n",
       "      <th>2</th>\n",
       "      <td>2014-01-02</td>\n",
       "      <td>501</td>\n",
       "      <td>2:01:00 PM</td>\n",
       "      <td>Thursday</td>\n",
       "      <td>Kingston road and Bingham</td>\n",
       "      <td>Held By</td>\n",
       "      <td>13</td>\n",
       "      <td>19.0</td>\n",
       "      <td>W/B</td>\n",
       "      <td>4016.0</td>\n",
       "    </tr>\n",
       "  </tbody>\n",
       "</table>\n",
       "</div>"
      ],
      "text/plain": [
       "  Report Date  Route         Time       Day                   Location  \\\n",
       "0  2014-01-02    505   6:31:00 AM  Thursday    Dundas and Roncesvalles   \n",
       "1  2014-01-02    504  12:43:00 PM  Thursday              King and Shaw   \n",
       "2  2014-01-02    501   2:01:00 PM  Thursday  Kingston road and Bingham   \n",
       "\n",
       "              Incident  Min Delay  Min Gap Direction  Vehicle  \n",
       "0  Late Leaving Garage          4      8.0       E/B   4018.0  \n",
       "1   Utilized Off Route         20     22.0       E/B   4128.0  \n",
       "2              Held By         13     19.0       W/B   4016.0  "
      ]
     },
     "execution_count": 21,
     "metadata": {},
     "output_type": "execute_result"
    }
   ],
   "source": [
    "df = pd.read_csv(pathFull)\n",
    "df.head(3)"
   ]
  },
  {
   "cell_type": "markdown",
   "id": "6b8f9640",
   "metadata": {},
   "source": [
    "## MUESTREO DE DATOS DE UN  DATAFRAME (Sample)\n",
    "Puede suceder que solo necesite algunas filas de su marco de datos de Python. Puede lograr este resultado, a través de diferentes técnicas de muestreo.\n",
    "\n",
    "### Muestreo aleatorio\n",
    "Dado un marco de datos con N filas, Muestreo aleatorio extrae X filas aleatorias del marco de datos, con X ≤ N se ocupara sample() para realizar un muestreo aleatorio hay 2 formas un numero fijo a rescatar fila del df y un porcentaje del total de filas"
   ]
  },
  {
   "cell_type": "code",
   "execution_count": null,
   "id": "c62532fb",
   "metadata": {},
   "outputs": [],
   "source": [
    "# Numero fijo\n",
    "df2 = df.sample(n=50)"
   ]
  },
  {
   "cell_type": "code",
   "execution_count": null,
   "id": "a6136e06",
   "metadata": {},
   "outputs": [],
   "source": [
    "# Porcentaje de una muestra del dataframe\n",
    "df3 = df.sample(frac=0.5)"
   ]
  },
  {
   "cell_type": "code",
   "execution_count": null,
   "id": "10781bec",
   "metadata": {},
   "outputs": [],
   "source": []
  },
  {
   "cell_type": "markdown",
   "id": "3f4623f9",
   "metadata": {},
   "source": [
    "### TENER UNA SOLA CONDICION EN UNA DECLARACION DE SELECCION"
   ]
  },
  {
   "cell_type": "code",
   "execution_count": 24,
   "id": "9e91cf32",
   "metadata": {},
   "outputs": [
    {
     "data": {
      "text/plain": [
       "1    504\n",
       "Name: Route, dtype: int64"
      ]
     },
     "execution_count": 24,
     "metadata": {},
     "output_type": "execute_result"
    }
   ],
   "source": [
    "df[df.Location == \"King and Shaw\"].Route"
   ]
  },
  {
   "cell_type": "markdown",
   "id": "6baa9e83",
   "metadata": {},
   "source": [
    "### ENUMERAR LAS ENTRADAS UNICAS EN UNA COLUMNA"
   ]
  },
  {
   "cell_type": "code",
   "execution_count": 25,
   "id": "f64af615",
   "metadata": {},
   "outputs": [
    {
     "data": {
      "text/plain": [
       "array(['Late Leaving Garage', 'Utilized Off Route', 'Held By',\n",
       "       'Investigation', 'Mechanical', 'General Delay',\n",
       "       'Emergency Services', 'Diversion'], dtype=object)"
      ]
     },
     "execution_count": 25,
     "metadata": {},
     "output_type": "execute_result"
    }
   ],
   "source": [
    "df.Incident.unique()"
   ]
  },
  {
   "cell_type": "markdown",
   "id": "d10d3e8c",
   "metadata": {},
   "source": [
    "### MULTIPLES CONDICIONES EN UNA DECLARACION DE SELECCION"
   ]
  },
  {
   "cell_type": "code",
   "execution_count": 27,
   "id": "ae360df0",
   "metadata": {},
   "outputs": [
    {
     "data": {
      "text/html": [
       "<div>\n",
       "<style scoped>\n",
       "    .dataframe tbody tr th:only-of-type {\n",
       "        vertical-align: middle;\n",
       "    }\n",
       "\n",
       "    .dataframe tbody tr th {\n",
       "        vertical-align: top;\n",
       "    }\n",
       "\n",
       "    .dataframe thead th {\n",
       "        text-align: right;\n",
       "    }\n",
       "</style>\n",
       "<table border=\"1\" class=\"dataframe\">\n",
       "  <thead>\n",
       "    <tr style=\"text-align: right;\">\n",
       "      <th></th>\n",
       "      <th>Report Date</th>\n",
       "      <th>Route</th>\n",
       "      <th>Time</th>\n",
       "      <th>Day</th>\n",
       "      <th>Location</th>\n",
       "      <th>Incident</th>\n",
       "      <th>Min Delay</th>\n",
       "      <th>Min Gap</th>\n",
       "      <th>Direction</th>\n",
       "      <th>Vehicle</th>\n",
       "    </tr>\n",
       "  </thead>\n",
       "  <tbody>\n",
       "    <tr>\n",
       "      <th>305</th>\n",
       "      <td>2014-01-19</td>\n",
       "      <td>504</td>\n",
       "      <td>8:33:00 AM</td>\n",
       "      <td>Sunday</td>\n",
       "      <td>King and Queen</td>\n",
       "      <td>Held By</td>\n",
       "      <td>40</td>\n",
       "      <td>50.0</td>\n",
       "      <td>E/B</td>\n",
       "      <td>4089.0</td>\n",
       "    </tr>\n",
       "    <tr>\n",
       "      <th>311</th>\n",
       "      <td>2014-01-19</td>\n",
       "      <td>511</td>\n",
       "      <td>7:17:00 PM</td>\n",
       "      <td>Sunday</td>\n",
       "      <td>Bathurst and Front</td>\n",
       "      <td>Investigation</td>\n",
       "      <td>33</td>\n",
       "      <td>40.0</td>\n",
       "      <td>S/B</td>\n",
       "      <td>4179.0</td>\n",
       "    </tr>\n",
       "  </tbody>\n",
       "</table>\n",
       "</div>"
      ],
      "text/plain": [
       "    Report Date  Route        Time     Day            Location       Incident  \\\n",
       "305  2014-01-19    504  8:33:00 AM  Sunday      King and Queen        Held By   \n",
       "311  2014-01-19    511  7:17:00 PM  Sunday  Bathurst and Front  Investigation   \n",
       "\n",
       "     Min Delay  Min Gap Direction  Vehicle  \n",
       "305         40     50.0       E/B   4089.0  \n",
       "311         33     40.0       S/B   4179.0  "
      ]
     },
     "execution_count": 27,
     "metadata": {},
     "output_type": "execute_result"
    }
   ],
   "source": [
    "df[(df['Min Delay'] > 20) & (df['Day'] == \"Sunday\")]"
   ]
  },
  {
   "cell_type": "markdown",
   "id": "1555807e",
   "metadata": {},
   "source": [
    "### PARA TENER ORDEN EN UNA DECLARACION SELECCIONADA"
   ]
  },
  {
   "cell_type": "code",
   "execution_count": 28,
   "id": "9946a895",
   "metadata": {},
   "outputs": [
    {
     "data": {
      "text/html": [
       "<div>\n",
       "<style scoped>\n",
       "    .dataframe tbody tr th:only-of-type {\n",
       "        vertical-align: middle;\n",
       "    }\n",
       "\n",
       "    .dataframe tbody tr th {\n",
       "        vertical-align: top;\n",
       "    }\n",
       "\n",
       "    .dataframe thead th {\n",
       "        text-align: right;\n",
       "    }\n",
       "</style>\n",
       "<table border=\"1\" class=\"dataframe\">\n",
       "  <thead>\n",
       "    <tr style=\"text-align: right;\">\n",
       "      <th></th>\n",
       "      <th>Route</th>\n",
       "      <th>Min Delay</th>\n",
       "    </tr>\n",
       "  </thead>\n",
       "  <tbody>\n",
       "    <tr>\n",
       "      <th>148</th>\n",
       "      <td>501</td>\n",
       "      <td>22</td>\n",
       "    </tr>\n",
       "    <tr>\n",
       "      <th>271</th>\n",
       "      <td>501</td>\n",
       "      <td>22</td>\n",
       "    </tr>\n",
       "    <tr>\n",
       "      <th>277</th>\n",
       "      <td>506</td>\n",
       "      <td>23</td>\n",
       "    </tr>\n",
       "    <tr>\n",
       "      <th>296</th>\n",
       "      <td>506</td>\n",
       "      <td>25</td>\n",
       "    </tr>\n",
       "    <tr>\n",
       "      <th>295</th>\n",
       "      <td>504</td>\n",
       "      <td>25</td>\n",
       "    </tr>\n",
       "    <tr>\n",
       "      <th>298</th>\n",
       "      <td>511</td>\n",
       "      <td>27</td>\n",
       "    </tr>\n",
       "    <tr>\n",
       "      <th>297</th>\n",
       "      <td>504</td>\n",
       "      <td>28</td>\n",
       "    </tr>\n",
       "    <tr>\n",
       "      <th>293</th>\n",
       "      <td>505</td>\n",
       "      <td>33</td>\n",
       "    </tr>\n",
       "    <tr>\n",
       "      <th>300</th>\n",
       "      <td>511</td>\n",
       "      <td>33</td>\n",
       "    </tr>\n",
       "    <tr>\n",
       "      <th>311</th>\n",
       "      <td>511</td>\n",
       "      <td>33</td>\n",
       "    </tr>\n",
       "    <tr>\n",
       "      <th>304</th>\n",
       "      <td>504</td>\n",
       "      <td>35</td>\n",
       "    </tr>\n",
       "    <tr>\n",
       "      <th>305</th>\n",
       "      <td>504</td>\n",
       "      <td>40</td>\n",
       "    </tr>\n",
       "    <tr>\n",
       "      <th>286</th>\n",
       "      <td>512</td>\n",
       "      <td>42</td>\n",
       "    </tr>\n",
       "    <tr>\n",
       "      <th>299</th>\n",
       "      <td>511</td>\n",
       "      <td>66</td>\n",
       "    </tr>\n",
       "    <tr>\n",
       "      <th>291</th>\n",
       "      <td>506</td>\n",
       "      <td>74</td>\n",
       "    </tr>\n",
       "    <tr>\n",
       "      <th>237</th>\n",
       "      <td>504</td>\n",
       "      <td>77</td>\n",
       "    </tr>\n",
       "    <tr>\n",
       "      <th>236</th>\n",
       "      <td>501</td>\n",
       "      <td>93</td>\n",
       "    </tr>\n",
       "  </tbody>\n",
       "</table>\n",
       "</div>"
      ],
      "text/plain": [
       "     Route  Min Delay\n",
       "148    501         22\n",
       "271    501         22\n",
       "277    506         23\n",
       "296    506         25\n",
       "295    504         25\n",
       "298    511         27\n",
       "297    504         28\n",
       "293    505         33\n",
       "300    511         33\n",
       "311    511         33\n",
       "304    504         35\n",
       "305    504         40\n",
       "286    512         42\n",
       "299    511         66\n",
       "291    506         74\n",
       "237    504         77\n",
       "236    501         93"
      ]
     },
     "execution_count": 28,
     "metadata": {},
     "output_type": "execute_result"
    }
   ],
   "source": [
    "df[['Route','Min Delay']][(df['Min Delay'] > 20)].sort_values('Min Delay')"
   ]
  },
  {
   "cell_type": "markdown",
   "id": "1b3b1c48",
   "metadata": {},
   "source": [
    "### NUMERO DE DATOS FALTANTES POR COLUMNA"
   ]
  },
  {
   "cell_type": "code",
   "execution_count": null,
   "id": "2d17cae0",
   "metadata": {},
   "outputs": [],
   "source": [
    "df.isnull().sum()"
   ]
  },
  {
   "cell_type": "markdown",
   "id": "2b02e1ee",
   "metadata": {},
   "source": [
    "### ELIMINAR DATOS FALTANTES\n",
    "Eliminar todas las filas que tengan datos faltantes"
   ]
  },
  {
   "cell_type": "code",
   "execution_count": null,
   "id": "25d401d8",
   "metadata": {},
   "outputs": [],
   "source": [
    "# cuando son filas no es neceario escribir axis=0\n",
    "df.dropna(axis=0)"
   ]
  },
  {
   "cell_type": "code",
   "execution_count": null,
   "id": "fe963c3e",
   "metadata": {},
   "outputs": [],
   "source": []
  },
  {
   "cell_type": "code",
   "execution_count": null,
   "id": "2ddcbfa7",
   "metadata": {},
   "outputs": [],
   "source": [
    "# Datos agrupados por incidente\n",
    "grouped_data = surveys_df.groupby('Incident')\n",
    "\n",
    "# Estadísticas para todas las columnas numéricas por sexo\n",
    "grouped_data.describe()\n",
    "# Regresa la media de cada columna numérica por sexo\n",
    "grouped_data.mean()"
   ]
  },
  {
   "cell_type": "code",
   "execution_count": null,
   "id": "53d0f5d0",
   "metadata": {},
   "outputs": [],
   "source": []
  },
  {
   "cell_type": "code",
   "execution_count": null,
   "id": "289e994b",
   "metadata": {},
   "outputs": [],
   "source": []
  },
  {
   "cell_type": "code",
   "execution_count": null,
   "id": "c6b7bbc7",
   "metadata": {},
   "outputs": [],
   "source": []
  },
  {
   "cell_type": "code",
   "execution_count": null,
   "id": "4b522aed",
   "metadata": {},
   "outputs": [],
   "source": []
  },
  {
   "cell_type": "code",
   "execution_count": null,
   "id": "1a426d4a",
   "metadata": {},
   "outputs": [],
   "source": []
  },
  {
   "cell_type": "code",
   "execution_count": null,
   "id": "1db69f9d",
   "metadata": {},
   "outputs": [],
   "source": []
  },
  {
   "cell_type": "code",
   "execution_count": null,
   "id": "890530ad",
   "metadata": {},
   "outputs": [],
   "source": [
    "import pandas as pd\n",
    "import os\n",
    " \n",
    "HOUSING_PATH = \"Ruta de almacenamiento de datos\"\n",
    " #Datos de importacion \n",
    "def load_housing_data(housing_path=HOUSING_PATH):\n",
    "         csv_path = os.path.join (housing_path, \"Nombre de archivo.csv\")\n",
    "    return pd.read_csv(csv_path)\n",
    " \n",
    "housing=load_housing_data()\n"
   ]
  },
  {
   "cell_type": "code",
   "execution_count": null,
   "id": "124ab09e",
   "metadata": {},
   "outputs": [],
   "source": []
  },
  {
   "cell_type": "code",
   "execution_count": null,
   "id": "fd2e70ab",
   "metadata": {},
   "outputs": [],
   "source": []
  },
  {
   "cell_type": "code",
   "execution_count": null,
   "id": "c5bed35a",
   "metadata": {},
   "outputs": [],
   "source": []
  },
  {
   "cell_type": "code",
   "execution_count": null,
   "id": "52157f01",
   "metadata": {},
   "outputs": [],
   "source": []
  },
  {
   "cell_type": "code",
   "execution_count": null,
   "id": "6ef6007b",
   "metadata": {},
   "outputs": [],
   "source": []
  },
  {
   "cell_type": "code",
   "execution_count": null,
   "id": "859d62a7",
   "metadata": {},
   "outputs": [],
   "source": []
  },
  {
   "cell_type": "code",
   "execution_count": null,
   "id": "321e92a0",
   "metadata": {},
   "outputs": [],
   "source": []
  },
  {
   "cell_type": "code",
   "execution_count": null,
   "id": "93d62104",
   "metadata": {},
   "outputs": [],
   "source": []
  },
  {
   "cell_type": "code",
   "execution_count": null,
   "id": "41bb7d5c",
   "metadata": {},
   "outputs": [],
   "source": []
  },
  {
   "cell_type": "code",
   "execution_count": null,
   "id": "8f8e73a7",
   "metadata": {},
   "outputs": [],
   "source": [
    "# Puede organizar sus archivos de configuración con categorías. Este archivo de configuración tiene una categoría para \n",
    "# parámetros generales y otra para nombres de archivo.\n",
    "general:\n",
    "    \n",
    "    # Parámetro utilizado para controlar si los archivos XLS sin procesar se leen directamente. Si este parámetro es True, \n",
    "    # el conjunto de datos sin procesar se lee de los archivos XLS originales. Si este parámetro es falso, el conjunto de \n",
    "    # datos se lee desde un marco de datos encurtido.\n",
    "   load_from_scratch: False\n",
    "    \n",
    "    # Parámetro utilizado para controlar si el marco de datos de salida se guarda en un archivo pickle\n",
    "   save_transformed_dataframe: False\n",
    "    \n",
    "    # Parámetro utilizado para controlar si se incluyen valores incorrectos en el marco de datos de salida\n",
    "   remove_bad_values: True\n",
    "file_names:\n",
    "    # Nombre de archivo del marco de datos en escabeche para leer si load_from_scratch se establece en False\n",
    "   pickled_input_dataframe: 2014_2019_upto_june.pkl\n",
    "    \n",
    "    # Nombre de archivo del marco de datos en escabeche para escribir si save_transformed_dataframe es True\n",
    "   pickled_output_dataframe: 2014_2019_df_cleaned_remove_bad_oct18.pkl \n"
   ]
  },
  {
   "cell_type": "code",
   "execution_count": null,
   "id": "ffc589da",
   "metadata": {},
   "outputs": [],
   "source": [
    "current_path = os.getcwd()\n",
    "\n",
    "# Defina la ruta para el archivo de configuración completo. Tenga en cuenta que el nombre del archivo de configuración es \n",
    "# un parámetro que debe codificarse en el código de Python, aunque esto no debería ser un problema porque el nombre del \n",
    "# archivo de configuración no debe cambiar. También tenga en cuenta que usamos os.path.join para combinar el directorio \n",
    "# y el nombre de archivo en una sola ruta. Usamos esta función porque hace que la plataforma de nombre de ruta sea \n",
    "# independiente.\n",
    "path_to_yaml = os.path.join(current_path,'streetcar_data_preparation_config.yml')\n",
    "try:\n",
    "    with open (path_to_yaml, 'r') as c_file:\n",
    "        \n",
    "        # Defina la configuración del diccionario de Python que contiene la clave/valor pares del archivo de configuración.\n",
    "        config = yaml.safe_load(c_file)\n",
    "except Exception as e:\n",
    "    print('Error reading the config file')\n",
    "\n",
    "# Copie los valores del diccionario de configuración en el variables utilizadas en el resto del programa.\n",
    "load_from_scratch = config['general']['load_from_scratch']\n",
    "save_transformed_dataframe = config['general']['save_transformed_dataframe']\n",
    "remove_bad_values = config['general']['remove_bad_values']\n",
    "pickled_input_dataframe = config['file_names']['pickled_input_dataframe']\n",
    "pickled_output_dataframe = config['file_names']['pickled_output_dataframe']"
   ]
  }
 ],
 "metadata": {
  "kernelspec": {
   "display_name": "Python 3 (ipykernel)",
   "language": "python",
   "name": "python3"
  },
  "language_info": {
   "codemirror_mode": {
    "name": "ipython",
    "version": 3
   },
   "file_extension": ".py",
   "mimetype": "text/x-python",
   "name": "python",
   "nbconvert_exporter": "python",
   "pygments_lexer": "ipython3",
   "version": "3.9.7"
  }
 },
 "nbformat": 4,
 "nbformat_minor": 5
}
